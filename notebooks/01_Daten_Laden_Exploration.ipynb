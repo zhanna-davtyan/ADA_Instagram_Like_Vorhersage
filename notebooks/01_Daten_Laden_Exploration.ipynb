{
 "cells": [
  {
   "cell_type": "markdown",
   "id": "2a4c3929",
   "metadata": {},
   "source": [
    "### Importierte Biblotheken"
   ]
  },
  {
   "cell_type": "code",
   "execution_count": 28,
   "id": "4043a99c",
   "metadata": {},
   "outputs": [],
   "source": [
    "import os\n",
    "from kaggle.api.kaggle_api_extended import KaggleApi\n",
    "from pathlib import Path"
   ]
  },
  {
   "cell_type": "markdown",
   "id": "3c500976",
   "metadata": {},
   "source": [
    "\n",
    "\n",
    "#### Voraussetzungen\n",
    "* **Bibliotheken:** `kaggle`, `os`, `shutil` (`pip install kaggle`).\n",
    "* **Kaggle API Key:** Eine `kaggle.json` API-Schlüsseldatei im Verzeichnis `~/.kaggle/` ist **zwingend erforderlich**. \n",
    "Ohne sie schlägt die Authentifizierung im Download-Schritt fehl. Details zur Einrichtung finden Sie in der [Kaggle Dokumentation](https://www.kaggle.com/docs/api) oder im Projektverzeichnis in der README.md Datei.\n"
   ]
  },
  {
   "cell_type": "markdown",
   "id": "0b288bd3",
   "metadata": {},
   "source": [
    "### Prüfung, Download \n",
    "\n",
    "Die nächste Code-Zelle führt die Kernlogik aus:\n",
    "\n",
    "1.  **Prüfung:** Testet, ob der Datensatz bereits am `data_dir` existiert und Inhalt hat.\n",
    "2.  **Download (falls nötig):**\n",
    "    * **Kaggle API:** Die `kaggle` API wird initialisiert und authentifiziert sich über Ihre `~/.kaggle/kaggle.json`-Datei.\n",
    "    * **Download & Entpacken:** `api.dataset_download_files(...)` lädt den Datensatz mit der `DATASET_ID` herunter und entpackt (`unzip=True`) dessen Inhalt direkt in den `data_dir`.\n"
   ]
  },
  {
   "cell_type": "code",
   "execution_count": 29,
   "id": "793890c7",
   "metadata": {},
   "outputs": [
    {
     "name": "stdout",
     "output_type": "stream",
     "text": [
      "Datensatz bereits vorhanden unter: /Users/zhanna97yan/Library/CloudStorage/OneDrive-SEPadersoftGmbH&Co.KG/Dokumente/FHDW/FHDW Projects/ADA_Instagram_Like_Vorhersage/daten/rohdaten/instagram-posts-dataset\n",
      "Datensatz bereits vorhanden.\n",
      "Gefundene Datei: .DS_Store\n",
      "Gefundene Datei: Data\n"
     ]
    }
   ],
   "source": [
    "DATASET_ID = \"thecoderenroute/instagram-posts-dataset\"\n",
    "\n",
    "base_dir = Path.cwd()\n",
    "if base_dir.name == \"notebooks\":\n",
    "    base_dir = base_dir.parent\n",
    "    print(f\"Aktueller Pfad: {base_dir}\")\n",
    "\n",
    "data_dir = base_dir / \"daten\" / \"rohdaten\" / \"instagram-posts-dataset\"\n",
    "os.makedirs(data_dir, exist_ok=True)\n",
    "\n",
    "data_exists = False\n",
    "valid_files = [f for f in os.listdir(data_dir) if not f.startswith('.')]\n",
    "if os.path.exists(data_dir) and valid_files:\n",
    "    try:\n",
    "        if len(valid_files) > 0:\n",
    "             data_exists = True\n",
    "             print(f\"Datensatz bereits vorhanden unter: {data_dir}\")\n",
    "        else:\n",
    "             print(f\"Hinweis: Zielordner '{data_dir}' existiert, ist aber leer.\")\n",
    "    except OSError:\n",
    "         print(f\"Hinweis: Pfad '{data_dir}' existiert, aber Inhalt konnte nicht gelesen werden.\")\n",
    "\n",
    "# ___DOWNLOAD___\n",
    "if not data_exists:\n",
    "    print(f\"Datensatz nicht oder nur leer vorhanden unter '{data_dir}'. Starte Download via Kaggle API...\")\n",
    "    try:\n",
    "        print(\"Initialisiere Kaggle API...\")\n",
    "        api = KaggleApi()\n",
    "        api.authenticate() \n",
    "        print(\"Authentifizierung erfolgreich.\")\n",
    "        print(f\"Lade '{DATASET_ID}' nach '{data_dir}' herunter und entpacke...\")\n",
    "        api.dataset_download_files(DATASET_ID, path=data_dir, unzip=True)\n",
    "        print(\"Download und Entpacken abgeschlossen.\")\n",
    "\n",
    "    except ImportError:\n",
    "         print(f\"**FEHLER:** Bibliothek 'kaggle' nicht gefunden. Bitte installieren: pip install kaggle\")\n",
    "    except Exception as e:\n",
    "        print(f\"**FEHLER** beim Download via Kaggle API: {e}\")\n",
    "else:\n",
    "    print(\"Datensatz bereits vorhanden.\")\n",
    "for file in os.listdir(data_dir):\n",
    "    print(f\"Gefundene Datei: {file}\")"
   ]
  }
 ],
 "metadata": {
  "kernelspec": {
   "display_name": ".venv",
   "language": "python",
   "name": "python3"
  },
  "language_info": {
   "codemirror_mode": {
    "name": "ipython",
    "version": 3
   },
   "file_extension": ".py",
   "mimetype": "text/x-python",
   "name": "python",
   "nbconvert_exporter": "python",
   "pygments_lexer": "ipython3",
   "version": "3.10.11"
  }
 },
 "nbformat": 4,
 "nbformat_minor": 5
}
