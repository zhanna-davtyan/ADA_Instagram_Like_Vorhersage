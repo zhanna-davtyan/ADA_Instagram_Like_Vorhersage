{
 "cells": [
  {
   "cell_type": "markdown",
   "id": "2a4c3929",
   "metadata": {},
   "source": [
    "### Importierte Biblotheken"
   ]
  },
  {
   "cell_type": "code",
   "execution_count": 37,
   "id": "4043a99c",
   "metadata": {},
   "outputs": [],
   "source": [
    "import os\n",
    "from kaggle.api.kaggle_api_extended import KaggleApi"
   ]
  },
  {
   "cell_type": "markdown",
   "id": "3c500976",
   "metadata": {},
   "source": [
    "\n",
    "\n",
    "#### Voraussetzungen\n",
    "* **Bibliotheken:** `kaggle`, `os`, `shutil` (`pip install kaggle`).\n",
    "* **Kaggle API Key:** Eine `kaggle.json` API-Schlüsseldatei im Verzeichnis `~/.kaggle/` ist **zwingend erforderlich**. \n",
    "Ohne sie schlägt die Authentifizierung im Download-Schritt fehl. Details zur Einrichtung finden Sie in der [Kaggle Dokumentation](https://www.kaggle.com/docs/api).\n"
   ]
  },
  {
   "cell_type": "code",
   "execution_count": 38,
   "id": "fa2f574e",
   "metadata": {},
   "outputs": [
    {
     "name": "stdout",
     "output_type": "stream",
     "text": [
      "Projekt-Root (berechnet): /Users/zhanna97yan/Library/CloudStorage/OneDrive-SEPadersoftGmbH&Co.KG/Dokumente/FHDW/FHDW Projects/ADA_Instagram_Like_Vorhersage\n",
      "Zielpfad für Datensatz (berechnet): /Users/zhanna97yan/Library/CloudStorage/OneDrive-SEPadersoftGmbH&Co.KG/Dokumente/FHDW/FHDW Projects/ADA_Instagram_Like_Vorhersage/daten/rohdaten/instagram-posts-dataset\n"
     ]
    }
   ],
   "source": [
    "DATASET_ID = \"thecoderenroute/instagram-posts-dataset\"\n",
    "DATASET_SUBFOLDER = DATASET_ID.split('/')[-1]\n",
    "\n",
    "try:\n",
    "    current_notebook_dir = os.path.dirname(__file__)\n",
    "except NameError:\n",
    "    current_notebook_dir = os.getcwd() \n",
    "\n",
    "project_root = os.path.abspath(os.path.join(current_notebook_dir)) \n",
    "target_dataset_path = os.path.join(project_root, \"daten\", \"rohdaten\", DATASET_SUBFOLDER)\n",
    "parent_dir_for_target = os.path.dirname(target_dataset_path)\n",
    "\n",
    "print(f\"Projekt-Root (berechnet): {project_root}\")\n",
    "print(f\"Zielpfad für Datensatz (berechnet): {target_dataset_path}\")\n"
   ]
  },
  {
   "cell_type": "markdown",
   "id": "0b288bd3",
   "metadata": {},
   "source": [
    "### Prüfung, Download (Cache) und Kopieren\n",
    "\n",
    "Die nächste Code-Zelle führt die Kernlogik aus:\n",
    "\n",
    "1.  **Prüfung:** Testet, ob der Datensatz bereits am `target_dataset_path` existiert und Inhalt hat.\n",
    "2.  **Download (falls nötig):**\n",
    "    * **Kaggle API:** Die `kaggle` API wird initialisiert und authentifiziert sich über Ihre `~/.kaggle/kaggle.json`-Datei.\n",
    "    * **Download & Entpacken:** `api.dataset_download_files(...)` lädt den Datensatz mit der `DATASET_ID` herunter und entpackt (`unzip=True`) dessen Inhalt direkt in den `target_dataset_path`.\n"
   ]
  },
  {
   "cell_type": "code",
   "execution_count": 39,
   "id": "793890c7",
   "metadata": {},
   "outputs": [
    {
     "name": "stdout",
     "output_type": "stream",
     "text": [
      "Datensatz bereits vorhanden.\n",
      "Gefundene Datei: .DS_Store\n",
      "Gefundene Datei: Data\n"
     ]
    }
   ],
   "source": [
    "os.makedirs(parent_dir_for_target, exist_ok=True)\n",
    "data_exists = False\n",
    "\n",
    "valid_files = [f for f in os.listdir(target_dataset_path) if not f.startswith('.')]\n",
    "if os.path.exists(target_dataset_path) and valid_files:\n",
    "    try:\n",
    "        if len(os.listdir(target_dataset_path)) > 0:\n",
    "             data_exists = True\n",
    "        else:\n",
    "             print(f\"Hinweis: Zielordner '{target_dataset_path}' existiert, ist aber leer.\")\n",
    "    except OSError:\n",
    "         print(f\"Hinweis: Pfad '{target_dataset_path}' existiert, aber Inhalt konnte nicht gelesen werden.\")\n",
    "\n",
    "\n",
    "if not data_exists:\n",
    "    print(f\"Datensatz nicht oder nur leer vorhanden unter '{target_dataset_path}'. Starte Download via Kaggle API...\")\n",
    "    try:\n",
    "        print(\"Initialisiere Kaggle API...\")\n",
    "        api = KaggleApi()\n",
    "        api.authenticate() \n",
    "        print(\"Authentifizierung erfolgreich.\")\n",
    "\n",
    "        print(f\"Lade '{DATASET_ID}' nach '{target_dataset_path}' herunter und entpacke...\")\n",
    "        api.dataset_download_files(DATASET_ID, path=target_dataset_path, unzip=True)\n",
    "        print(\"Download und Entpacken abgeschlossen.\")\n",
    "\n",
    "    except ImportError:\n",
    "         print(f\"**FEHLER:** Bibliothek 'kaggle' nicht gefunden. Bitte installieren: pip install kaggle\")\n",
    "    except Exception as e:\n",
    "        print(f\"**FEHLER** beim Download via Kaggle API: {e}\")\n",
    "else:\n",
    "    print(\"Datensatz bereits vorhanden.\")\n",
    "for file in os.listdir(target_dataset_path):\n",
    "    print(f\"Gefundene Datei: {file}\")"
   ]
  },
  {
   "cell_type": "code",
   "execution_count": null,
   "id": "15826378",
   "metadata": {},
   "outputs": [
    {
     "name": "stdout",
     "output_type": "stream",
     "text": [
      "Erfolg: Daten in '/Users/zhanna97yan/Library/CloudStorage/OneDrive-SEPadersoftGmbH&Co.KG/Dokumente/FHDW/FHDW Projects/ADA_Instagram_Like_Vorhersage/daten/rohdaten/instagram-posts-dataset' bereit.\n",
      "Inhalt (Auszug): ['Data']\n"
     ]
    }
   ],
   "source": [
    "valid_files = [f for f in os.listdir(target_dataset_path) if not f.startswith('.')]\n",
    "if os.path.exists(target_dataset_path) and valid_files:\n",
    "    print(f\"Erfolg: Daten in '{target_dataset_path}' bereit.\")\n",
    "    print(f\"Inhalt (Auszug): {valid_files[:5]}\")\n",
    "else:\n",
    "    print(f\"FEHLER: Daten konnten nicht bereitgestellt werden!\")\n",
    "    print(\"Bitte überprüfen Sie, ob der Download korrekt durchgeführt wurde.\")"
   ]
  },
  {
   "cell_type": "markdown",
   "id": "39369354",
   "metadata": {},
   "source": [
    "### Finale Prüfung und Ausblick\n",
    "\n",
    "Hier wird geprüft, ob der Datensatz nun am Zielort `target_dataset_path` verfügbar ist und gibt eine entsprechende Statusmeldung aus.\n",
    "\n",
    "* Bei **Erfolg** können die nachfolgenden Analyse-Schritte auf die Daten zugreifen.\n",
    "* Bei **Fehler** müssen die Ursachen behoben werden."
   ]
  },
  {
   "cell_type": "code",
   "execution_count": 41,
   "id": "c247f5e0",
   "metadata": {},
   "outputs": [
    {
     "name": "stdout",
     "output_type": "stream",
     "text": [
      "Erfolg:Daten in '/Users/zhanna97yan/Library/CloudStorage/OneDrive-SEPadersoftGmbH&Co.KG/Dokumente/FHDW/FHDW Projects/ADA_Instagram_Like_Vorhersage/daten/rohdaten/instagram-posts-dataset' bereit.\n",
      "Inhalt (Auszug): ['.DS_Store', 'Data']\n"
     ]
    }
   ],
   "source": [
    "if os.path.exists(target_dataset_path) and os.listdir(target_dataset_path):\n",
    "     print(f\"Erfolg:Daten in '{target_dataset_path}' bereit.\")\n",
    "     try:\n",
    "         print(f\"Inhalt (Auszug): {os.listdir(target_dataset_path)[:5]}\")\n",
    "     except Exception as list_e:\n",
    "         print(f\" Konnte Inhalt nicht auflisten: {list_e}\")\n",
    "else:\n",
    "     print(f\"FEHLER: Daten konnten nicht bereitgestellt werden!\")"
   ]
  }
 ],
 "metadata": {
  "kernelspec": {
   "display_name": ".venv",
   "language": "python",
   "name": "python3"
  },
  "language_info": {
   "codemirror_mode": {
    "name": "ipython",
    "version": 3
   },
   "file_extension": ".py",
   "mimetype": "text/x-python",
   "name": "python",
   "nbconvert_exporter": "python",
   "pygments_lexer": "ipython3",
   "version": "3.10.11"
  }
 },
 "nbformat": 4,
 "nbformat_minor": 5
}
